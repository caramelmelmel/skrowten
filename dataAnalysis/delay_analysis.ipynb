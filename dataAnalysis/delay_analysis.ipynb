{
 "cells": [
  {
   "cell_type": "code",
   "execution_count": 76,
   "metadata": {},
   "outputs": [],
   "source": [
    "import pandas as pd\n",
    "\n",
    "def convert_ms_to_int(e):\n",
    "    return int(e[:-2])\n",
    "\n",
    "data = pd.read_csv(\"cleaned_data.csv\")\n",
    "data = data[data[\"throttleType\"] == \"delay\"]"
   ]
  },
  {
   "cell_type": "code",
   "execution_count": 82,
   "metadata": {},
   "outputs": [
    {
     "name": "stderr",
     "output_type": "stream",
     "text": [
      "/tmp/ipykernel_24629/2652502024.py:2: SettingWithCopyWarning: \n",
      "A value is trying to be set on a copy of a slice from a DataFrame.\n",
      "Try using .loc[row_indexer,col_indexer] = value instead\n",
      "\n",
      "See the caveats in the documentation: https://pandas.pydata.org/pandas-docs/stable/user_guide/indexing.html#returning-a-view-versus-a-copy\n",
      "  delay_data['throttleparameter'] = delay_data['throttleparameter'].apply(convert_ms_to_int)\n",
      "/home/linuxbrew/.linuxbrew/Cellar/python@3.9/3.9.2_5/lib/python3.9/site-packages/pandas/util/_decorators.py:311: SettingWithCopyWarning: \n",
      "A value is trying to be set on a copy of a slice from a DataFrame\n",
      "\n",
      "See the caveats in the documentation: https://pandas.pydata.org/pandas-docs/stable/user_guide/indexing.html#returning-a-view-versus-a-copy\n",
      "  return func(*args, **kwargs)\n"
     ]
    },
    {
     "data": {
      "text/html": [
       "<div>\n",
       "<style scoped>\n",
       "    .dataframe tbody tr th:only-of-type {\n",
       "        vertical-align: middle;\n",
       "    }\n",
       "\n",
       "    .dataframe tbody tr th {\n",
       "        vertical-align: top;\n",
       "    }\n",
       "\n",
       "    .dataframe thead th {\n",
       "        text-align: right;\n",
       "    }\n",
       "</style>\n",
       "<table border=\"1\" class=\"dataframe\">\n",
       "  <thead>\n",
       "    <tr style=\"text-align: right;\">\n",
       "      <th></th>\n",
       "      <th>throttleparameter</th>\n",
       "      <th>speed-index_numericValue</th>\n",
       "      <th>speed-index_score</th>\n",
       "      <th>lighthouse_performance</th>\n",
       "      <th>httpVersion</th>\n",
       "    </tr>\n",
       "  </thead>\n",
       "  <tbody>\n",
       "    <tr>\n",
       "      <th>272</th>\n",
       "      <td>0</td>\n",
       "      <td>5185.839000</td>\n",
       "      <td>0.61</td>\n",
       "      <td>0.38</td>\n",
       "      <td>3</td>\n",
       "    </tr>\n",
       "    <tr>\n",
       "      <th>273</th>\n",
       "      <td>0</td>\n",
       "      <td>2676.355000</td>\n",
       "      <td>0.97</td>\n",
       "      <td>0.75</td>\n",
       "      <td>3</td>\n",
       "    </tr>\n",
       "    <tr>\n",
       "      <th>271</th>\n",
       "      <td>0</td>\n",
       "      <td>3861.406000</td>\n",
       "      <td>0.83</td>\n",
       "      <td>0.78</td>\n",
       "      <td>3</td>\n",
       "    </tr>\n",
       "    <tr>\n",
       "      <th>150</th>\n",
       "      <td>0</td>\n",
       "      <td>2628.893000</td>\n",
       "      <td>0.97</td>\n",
       "      <td>0.80</td>\n",
       "      <td>2</td>\n",
       "    </tr>\n",
       "    <tr>\n",
       "      <th>183</th>\n",
       "      <td>0</td>\n",
       "      <td>2513.652000</td>\n",
       "      <td>0.98</td>\n",
       "      <td>0.84</td>\n",
       "      <td>3</td>\n",
       "    </tr>\n",
       "    <tr>\n",
       "      <th>...</th>\n",
       "      <td>...</td>\n",
       "      <td>...</td>\n",
       "      <td>...</td>\n",
       "      <td>...</td>\n",
       "      <td>...</td>\n",
       "    </tr>\n",
       "    <tr>\n",
       "      <th>149</th>\n",
       "      <td>1000</td>\n",
       "      <td>6839.362166</td>\n",
       "      <td>0.35</td>\n",
       "      <td>0.41</td>\n",
       "      <td>2</td>\n",
       "    </tr>\n",
       "    <tr>\n",
       "      <th>180</th>\n",
       "      <td>1000</td>\n",
       "      <td>2626.462000</td>\n",
       "      <td>0.97</td>\n",
       "      <td>0.83</td>\n",
       "      <td>3</td>\n",
       "    </tr>\n",
       "    <tr>\n",
       "      <th>257</th>\n",
       "      <td>1000</td>\n",
       "      <td>5115.887000</td>\n",
       "      <td>0.62</td>\n",
       "      <td>0.42</td>\n",
       "      <td>3</td>\n",
       "    </tr>\n",
       "    <tr>\n",
       "      <th>201</th>\n",
       "      <td>1000</td>\n",
       "      <td>3833.955000</td>\n",
       "      <td>0.84</td>\n",
       "      <td>0.79</td>\n",
       "      <td>2</td>\n",
       "    </tr>\n",
       "    <tr>\n",
       "      <th>148</th>\n",
       "      <td>1000</td>\n",
       "      <td>21626.048820</td>\n",
       "      <td>0.00</td>\n",
       "      <td>0.16</td>\n",
       "      <td>2</td>\n",
       "    </tr>\n",
       "  </tbody>\n",
       "</table>\n",
       "<p>176 rows × 5 columns</p>\n",
       "</div>"
      ],
      "text/plain": [
       "     throttleparameter  speed-index_numericValue  speed-index_score  \\\n",
       "272                  0               5185.839000               0.61   \n",
       "273                  0               2676.355000               0.97   \n",
       "271                  0               3861.406000               0.83   \n",
       "150                  0               2628.893000               0.97   \n",
       "183                  0               2513.652000               0.98   \n",
       "..                 ...                       ...                ...   \n",
       "149               1000               6839.362166               0.35   \n",
       "180               1000               2626.462000               0.97   \n",
       "257               1000               5115.887000               0.62   \n",
       "201               1000               3833.955000               0.84   \n",
       "148               1000              21626.048820               0.00   \n",
       "\n",
       "     lighthouse_performance  httpVersion  \n",
       "272                    0.38            3  \n",
       "273                    0.75            3  \n",
       "271                    0.78            3  \n",
       "150                    0.80            2  \n",
       "183                    0.84            3  \n",
       "..                      ...          ...  \n",
       "149                    0.41            2  \n",
       "180                    0.83            3  \n",
       "257                    0.42            3  \n",
       "201                    0.79            2  \n",
       "148                    0.16            2  \n",
       "\n",
       "[176 rows x 5 columns]"
      ]
     },
     "execution_count": 82,
     "metadata": {},
     "output_type": "execute_result"
    }
   ],
   "source": [
    "delay_data = data[['throttleparameter', 'speed-index_numericValue', 'speed-index_score', 'lighthouse_performance', 'httpVersion']]\n",
    "delay_data['throttleparameter'] = delay_data['throttleparameter'].apply(convert_ms_to_int)\n",
    "delay_data.sort_values(by=['throttleparameter'], inplace=True)\n",
    "\n",
    "delay_data"
   ]
  },
  {
   "cell_type": "code",
   "execution_count": 64,
   "metadata": {},
   "outputs": [
    {
     "data": {
      "image/png": "[encoded data removed]",
      "text/plain": [
       "<Figure size 432x288 with 1 Axes>"
      ]
     },
     "metadata": {
      "needs_background": "light"
     },
     "output_type": "display_data"
    }
   ],
   "source": [
    "#Ignore this useless cell, thanks\n",
    "#Seaborn is superior to matplotlib\n",
    "\n",
    "def boxplot(field, data):\n",
    "    selected = {}\n",
    "\n",
    "    for i in range(0, 1100, 100):\n",
    "        parameter = str(i) + \"ms\"\n",
    "\n",
    "        http2_data = data[(data['throttleparameter'] == parameter) & (data['httpVersion'] == 2)][field]\n",
    "        http3_data = data[(data['throttleparameter'] == parameter) & (data['httpVersion'] == 3)][field]\n",
    "        selected['http2_' + parameter] = http2_data\n",
    "        selected['http3_' + parameter] = http3_data\n",
    "\n",
    "    boxplot_df = pd.DataFrame(selected)\n",
    "    boxplot_df.boxplot()\n",
    "\n",
    "boxplot('speed-index_numericValue', data)"
   ]
  },
  {
   "cell_type": "code",
   "execution_count": 83,
   "metadata": {},
   "outputs": [
    {
     "data": {
      "text/plain": [
       "<AxesSubplot:xlabel='throttleparameter', ylabel='speed-index_numericValue'>"
      ]
     },
     "execution_count": 83,
     "metadata": {},
     "output_type": "execute_result"
    },
    {
     "data": {
      "image/png": "[encoded data removed]",
      "text/plain": [
       "<Figure size 432x288 with 1 Axes>"
      ]
     },
     "metadata": {
      "needs_background": "light"
     },
     "output_type": "display_data"
    }
   ],
   "source": [
    "import seaborn as sns\n",
    "\n",
    "sns.boxplot(x=\"throttleparameter\", y=\"speed-index_numericValue\", hue=\"httpVersion\", data=delay_data)"
   ]
  },
  {
   "cell_type": "code",
   "execution_count": 84,
   "metadata": {},
   "outputs": [
    {
     "data": {
      "text/plain": [
       "<AxesSubplot:xlabel='throttleparameter', ylabel='speed-index_score'>"
      ]
     },
     "execution_count": 84,
     "metadata": {},
     "output_type": "execute_result"
    },
    {
     "data": {
      "image/png": "[encoded data removed]",
      "text/plain": [
       "<Figure size 432x288 with 1 Axes>"
      ]
     },
     "metadata": {
      "needs_background": "light"
     },
     "output_type": "display_data"
    }
   ],
   "source": [
    "sns.boxplot(x=\"throttleparameter\", y=\"speed-index_score\", hue=\"httpVersion\", data=delay_data)"
   ]
  },
  {
   "cell_type": "code",
   "execution_count": 85,
   "metadata": {},
   "outputs": [
    {
     "data": {
      "text/plain": [
       "<AxesSubplot:xlabel='throttleparameter', ylabel='lighthouse_performance'>"
      ]
     },
     "execution_count": 85,
     "metadata": {},
     "output_type": "execute_result"
    },
    {
     "data": {
      "image/png": "[encoded data removed]",
      "text/plain": [
       "<Figure size 432x288 with 1 Axes>"
      ]
     },
     "metadata": {
      "needs_background": "light"
     },
     "output_type": "display_data"
    }
   ],
   "source": [
    "sns.boxplot(x=\"throttleparameter\", y=\"lighthouse_performance\", hue=\"httpVersion\", data=delay_data)"
   ]
  }
 ],
 "metadata": {
  "interpreter": {
   "hash": "7d6993cb2f9ce9a59d5d7380609d9cb5192a9dedd2735a011418ad9e827eb538"
  },
  "kernelspec": {
   "display_name": "Python 3.9.2 64-bit",
   "language": "python",
   "name": "python3"
  },
  "language_info": {
   "codemirror_mode": {
    "name": "ipython",
    "version": 3
   },
   "file_extension": ".py",
   "mimetype": "text/x-python",
   "name": "python",
   "nbconvert_exporter": "python",
   "pygments_lexer": "ipython3",
   "version": "3.9.2"
  },
  "orig_nbformat": 4
 },
 "nbformat": 4,
 "nbformat_minor": 2
}
